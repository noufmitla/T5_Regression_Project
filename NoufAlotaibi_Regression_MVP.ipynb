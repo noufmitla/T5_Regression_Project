{
 "cells": [
  {
   "cell_type": "markdown",
   "metadata": {},
   "source": [
    "***T5 Data Science Bootcamp***\n",
    "# Predicting Video Games Global Sales (MVP)\n",
    "\n",
    "By Nouf Alotaibi\n",
    "<br>\n",
    "Email: noufmitla@gmail.com\n",
    "\n",
    "\n",
    "### Table of Contents\n",
    "- [Introduction](#Introduction)\n",
    "- [Part I - Load Dataset](#LoadDataset)\n",
    "- [Part II - Split Data](#SplitData)\n",
    "- [Part III - Linear Regression Baseline Model](#LinearRegression)"
   ]
  },
  {
   "cell_type": "markdown",
   "metadata": {},
   "source": [
    "## Introduction\n",
    "\n",
    "In this project, I will be investigating the relationship between the global sales of games and user/critic scores to predict the games' global sales and success. Also, test the effect of global sales on the game's play score, publisher, developer, genre, and other features. Moreover, I will get familiar with Machine Learning, web scraping techniques, and modeling methods such as Linear Regression and other Regression algorithems."
   ]
  },
  {
   "cell_type": "code",
   "execution_count": 1,
   "metadata": {},
   "outputs": [
    {
     "name": "stdout",
     "output_type": "stream",
     "text": [
      "Populating the interactive namespace from numpy and matplotlib\n"
     ]
    }
   ],
   "source": [
    "import pandas as pd\n",
    "import numpy as np\n",
    "import matplotlib.pyplot as plt\n",
    "%pylab inline\n",
    "import sklearn\n",
    "from sklearn.model_selection import train_test_split\n",
    "from sklearn.linear_model import LinearRegression"
   ]
  },
  {
   "cell_type": "markdown",
   "metadata": {},
   "source": [
    "## Load Data"
   ]
  },
  {
   "cell_type": "code",
   "execution_count": 2,
   "metadata": {},
   "outputs": [
    {
     "data": {
      "text/html": [
       "<div>\n",
       "<style scoped>\n",
       "    .dataframe tbody tr th:only-of-type {\n",
       "        vertical-align: middle;\n",
       "    }\n",
       "\n",
       "    .dataframe tbody tr th {\n",
       "        vertical-align: top;\n",
       "    }\n",
       "\n",
       "    .dataframe thead th {\n",
       "        text-align: right;\n",
       "    }\n",
       "</style>\n",
       "<table border=\"1\" class=\"dataframe\">\n",
       "  <thead>\n",
       "    <tr style=\"text-align: right;\">\n",
       "      <th></th>\n",
       "      <th>rank</th>\n",
       "      <th>game_name</th>\n",
       "      <th>platform</th>\n",
       "      <th>genre</th>\n",
       "      <th>global_sales</th>\n",
       "      <th>publisher</th>\n",
       "      <th>developer</th>\n",
       "      <th>release_date</th>\n",
       "      <th>critics_rating</th>\n",
       "      <th>num_critics_rating</th>\n",
       "      <th>users_rating</th>\n",
       "      <th>num_users_rating</th>\n",
       "      <th>rate</th>\n",
       "      <th>year</th>\n",
       "      <th>play_score</th>\n",
       "    </tr>\n",
       "  </thead>\n",
       "  <tbody>\n",
       "    <tr>\n",
       "      <th>0</th>\n",
       "      <td>17</td>\n",
       "      <td>Grand Theft Auto V</td>\n",
       "      <td>PlayStation 3</td>\n",
       "      <td>Action</td>\n",
       "      <td>21400000.0</td>\n",
       "      <td>Rockstar Games</td>\n",
       "      <td>Rockstar North</td>\n",
       "      <td>2013-09-17</td>\n",
       "      <td>97</td>\n",
       "      <td>50</td>\n",
       "      <td>8.3</td>\n",
       "      <td>4719</td>\n",
       "      <td>M</td>\n",
       "      <td>2013</td>\n",
       "      <td>9.28</td>\n",
       "    </tr>\n",
       "    <tr>\n",
       "      <th>1</th>\n",
       "      <td>24</td>\n",
       "      <td>Grand Theft Auto V</td>\n",
       "      <td>Xbox 360</td>\n",
       "      <td>Action</td>\n",
       "      <td>16380000.0</td>\n",
       "      <td>Rockstar Games</td>\n",
       "      <td>Rockstar North</td>\n",
       "      <td>2013-09-17</td>\n",
       "      <td>97</td>\n",
       "      <td>58</td>\n",
       "      <td>8.3</td>\n",
       "      <td>3990</td>\n",
       "      <td>M</td>\n",
       "      <td>2013</td>\n",
       "      <td>9.63</td>\n",
       "    </tr>\n",
       "    <tr>\n",
       "      <th>2</th>\n",
       "      <td>30</td>\n",
       "      <td>Call of Duty: Modern Warfare 3</td>\n",
       "      <td>Xbox 360</td>\n",
       "      <td>Shooter</td>\n",
       "      <td>14760000.0</td>\n",
       "      <td>Activision</td>\n",
       "      <td>Infinity Ward</td>\n",
       "      <td>2011-11-08</td>\n",
       "      <td>88</td>\n",
       "      <td>81</td>\n",
       "      <td>3.5</td>\n",
       "      <td>8631</td>\n",
       "      <td>M</td>\n",
       "      <td>2011</td>\n",
       "      <td>8.53</td>\n",
       "    </tr>\n",
       "    <tr>\n",
       "      <th>3</th>\n",
       "      <td>32</td>\n",
       "      <td>Call of Duty: Black Ops</td>\n",
       "      <td>Xbox 360</td>\n",
       "      <td>Shooter</td>\n",
       "      <td>14640000.0</td>\n",
       "      <td>Activision</td>\n",
       "      <td>Treyarch</td>\n",
       "      <td>2010-11-09</td>\n",
       "      <td>87</td>\n",
       "      <td>89</td>\n",
       "      <td>6.6</td>\n",
       "      <td>1662</td>\n",
       "      <td>M</td>\n",
       "      <td>2010</td>\n",
       "      <td>8.41</td>\n",
       "    </tr>\n",
       "    <tr>\n",
       "      <th>4</th>\n",
       "      <td>35</td>\n",
       "      <td>Call of Duty: Black Ops II</td>\n",
       "      <td>PlayStation 3</td>\n",
       "      <td>Shooter</td>\n",
       "      <td>14030000.0</td>\n",
       "      <td>Activision</td>\n",
       "      <td>Treyarch</td>\n",
       "      <td>2012-11-13</td>\n",
       "      <td>83</td>\n",
       "      <td>21</td>\n",
       "      <td>5.7</td>\n",
       "      <td>1116</td>\n",
       "      <td>M</td>\n",
       "      <td>2012</td>\n",
       "      <td>7.84</td>\n",
       "    </tr>\n",
       "  </tbody>\n",
       "</table>\n",
       "</div>"
      ],
      "text/plain": [
       "   rank                       game_name       platform    genre  global_sales  \\\n",
       "0    17              Grand Theft Auto V  PlayStation 3   Action    21400000.0   \n",
       "1    24              Grand Theft Auto V       Xbox 360   Action    16380000.0   \n",
       "2    30  Call of Duty: Modern Warfare 3       Xbox 360  Shooter    14760000.0   \n",
       "3    32         Call of Duty: Black Ops       Xbox 360  Shooter    14640000.0   \n",
       "4    35      Call of Duty: Black Ops II  PlayStation 3  Shooter    14030000.0   \n",
       "\n",
       "        publisher       developer release_date  critics_rating  \\\n",
       "0  Rockstar Games  Rockstar North   2013-09-17              97   \n",
       "1  Rockstar Games  Rockstar North   2013-09-17              97   \n",
       "2      Activision   Infinity Ward   2011-11-08              88   \n",
       "3      Activision        Treyarch   2010-11-09              87   \n",
       "4      Activision        Treyarch   2012-11-13              83   \n",
       "\n",
       "   num_critics_rating  users_rating  num_users_rating rate  year  play_score  \n",
       "0                  50           8.3              4719    M  2013        9.28  \n",
       "1                  58           8.3              3990    M  2013        9.63  \n",
       "2                  81           3.5              8631    M  2011        8.53  \n",
       "3                  89           6.6              1662    M  2010        8.41  \n",
       "4                  21           5.7              1116    M  2012        7.84  "
      ]
     },
     "execution_count": 2,
     "metadata": {},
     "output_type": "execute_result"
    }
   ],
   "source": [
    "games_df = pd.read_csv(\"data/games_original\", sep=\"@\").iloc[:, 1:]\n",
    "games_df.head()"
   ]
  },
  {
   "cell_type": "markdown",
   "metadata": {},
   "source": [
    "## Split Data"
   ]
  },
  {
   "cell_type": "code",
   "execution_count": 3,
   "metadata": {},
   "outputs": [],
   "source": [
    "# Separate the target and the features\n",
    "cat_columns = ['global_sales','game_name','platform','genre','publisher','developer','release_date','rate']\n",
    "X = games_df.drop(columns=cat_columns, axis=1)\n",
    "y = games_df['global_sales'] # "
   ]
  },
  {
   "cell_type": "code",
   "execution_count": 4,
   "metadata": {},
   "outputs": [],
   "source": [
    "# Split data into 60% train, 20% validation, and 20% test\n",
    "X, X_test, y, y_test = train_test_split(X, y, test_size=0.2)\n",
    "X_train, X_val, y_train, y_val = train_test_split(X, y, test_size=0.25)"
   ]
  },
  {
   "cell_type": "markdown",
   "metadata": {},
   "source": [
    "## Linear Regression Baseline Model"
   ]
  },
  {
   "cell_type": "code",
   "execution_count": 7,
   "metadata": {},
   "outputs": [
    {
     "name": "stdout",
     "output_type": "stream",
     "text": [
      "Training Score: 0.385292\n",
      "Validation Score: 0.448502\n"
     ]
    }
   ],
   "source": [
    "lm = LinearRegression()\n",
    "lm.fit(X_train, y_train)\n",
    "print(f\"Training Score: {round(lm.score(X_train, y_train), 6)}\")\n",
    "print(f\"Validation Score: {round(lm.score(X_val, y_val), 6)}\")"
   ]
  },
  {
   "cell_type": "code",
   "execution_count": 8,
   "metadata": {
    "scrolled": false
   },
   "outputs": [
    {
     "data": {
      "image/png": "[encoded data removed]",
      "text/plain": [
       "<Figure size 640x480 with 1 Axes>"
      ]
     },
     "metadata": {
      "needs_background": "light"
     },
     "output_type": "display_data"
    }
   ],
   "source": [
    "y_train_pred = lm.predict(X_train)\n",
    "figure(figsize=(8, 6), dpi=80)\n",
    "\n",
    "plt.scatter(y_train, y_train_pred, alpha=0.2, color='slateblue')\n",
    "\n",
    "m, b = np.polyfit(y_train, y_train_pred, 1)\n",
    "# m = slope \n",
    "# b = intercept\n",
    "\n",
    "plt.plot(y_train, m*y_train + b, color='midnightblue')\n",
    "\n",
    "plt.xlabel('Actual Target Train (Global Sales)', fontsize=14)\n",
    "plt.ylabel('Predicted Target Train (Global Sales)', fontsize=14)\n",
    "plt.title('Predicted VS. Actual Target Train', fontsize=16)\n",
    "plt.grid(linewidth=0.5)"
   ]
  }
 ],
 "metadata": {
  "kernelspec": {
   "display_name": "Python 3",
   "language": "python",
   "name": "python3"
  },
  "language_info": {
   "codemirror_mode": {
    "name": "ipython",
    "version": 3
   },
   "file_extension": ".py",
   "mimetype": "text/x-python",
   "name": "python",
   "nbconvert_exporter": "python",
   "pygments_lexer": "ipython3",
   "version": "3.7.6"
  }
 },
 "nbformat": 4,
 "nbformat_minor": 4
}
